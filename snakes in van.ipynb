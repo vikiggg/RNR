{
 "cells": [
  {
   "cell_type": "code",
   "execution_count": 1,
   "metadata": {},
   "outputs": [],
   "source": [
    "import pandas as pd\n",
    "import os\n",
    "import requests\n",
    "import json\n",
    "from IPython.display import JSON\n",
    "import gmplot"
   ]
  },
  {
   "cell_type": "code",
   "execution_count": 59,
   "metadata": {},
   "outputs": [],
   "source": [
    "# Yelp API pull\n",
    "url = 'https://api.yelp.com/v3/businesses/search'\n",
    "YELP_APIKEY=os.environ['YELP_APIKEY']\n",
    "\n",
    "class BearerAuth(requests.auth.AuthBase):\n",
    "    def __init__(self, token):\n",
    "        self.token = token\n",
    "    def __call__(self, r):\n",
    "        r.headers[\"authorization\"] = \"Bearer \" + self.token\n",
    "        return r "
   ]
  },
  {
   "cell_type": "code",
   "execution_count": 85,
   "metadata": {},
   "outputs": [],
   "source": [
    "def get_business(loc,terms):\n",
    "    params={\n",
    "        'location':loc,\n",
    "        'radius':10000,\n",
    "        'price':1,\n",
    "        'term':terms,\n",
    "        'categories':'Food',\n",
    "        'limit':50,\n",
    "        'sort_by':'rating'\n",
    "        }\n",
    "    response=requests.get(url,params=params,auth=BearerAuth(YELP_APIKEY))\n",
    "    return response.json()"
   ]
  },
  {
   "cell_type": "code",
   "execution_count": 86,
   "metadata": {},
   "outputs": [],
   "source": [
    "bby_snack_yelp = get_business('49.225706, -123.001991','snack') #metrotown \n",
    "rmd_snack_yelp = get_business('49.156481, -123.143042','snack') #blundell \n",
    "van_dt_snack_yelp = get_business('49.285766, -123.130353','snack') #west-end \n",
    "van_west_snack_yelp = get_business('49.241093, -123.140106','snack') #Shaughnessy"
   ]
  },
  {
   "cell_type": "code",
   "execution_count": 2,
   "metadata": {},
   "outputs": [],
   "source": [
    "import pickle"
   ]
  },
  {
   "cell_type": "code",
   "execution_count": 88,
   "metadata": {},
   "outputs": [],
   "source": [
    "pickle.dump(bby_snack_yelp,open('bby_snack_yelp.txt','wb'))\n",
    "pickle.dump(rmd_snack_yelp,open('rmd_snack_yelp.txt','wb'))\n",
    "pickle.dump(van_dt_snack_yelp,open('van_dt_snack_yelp.txt','wb'))\n",
    "pickle.dump(van_west_snack_yelp,open('van_west_snack_yelp.txt','wb'))"
   ]
  },
  {
   "cell_type": "code",
   "execution_count": 3,
   "metadata": {},
   "outputs": [],
   "source": [
    "bby_snack_yelp=pickle.load(open('bby_snack_yelp.txt','rb'))\n",
    "rmd_snack_yelp=pickle.load(open('rmd_snack_yelp.txt','rb'))\n",
    "van_dt_snack_yelp=pickle.load(open('van_dt_snack_yelp.txt','rb'))\n",
    "van_west_snack_yelp=pickle.load(open('van_west_snack_yelp.txt','rb'))"
   ]
  },
  {
   "cell_type": "code",
   "execution_count": 4,
   "metadata": {},
   "outputs": [
    {
     "output_type": "execute_result",
     "data": {
      "text/plain": [
       "<IPython.core.display.JSON object>"
      ],
      "application/json": {
       "businesses": [
        {
         "id": "3ByjrLF8nyArUxvO6vqJCw",
         "alias": "incognito-coffee-vancouver",
         "name": "Incognito Coffee",
         "image_url": "https://s3-media2.fl.yelpcdn.com/bphoto/Sk58uxr56M3FkKI8KLWrpg/o.jpg",
         "is_closed": false,
         "url": "https://www.yelp.com/biz/incognito-coffee-vancouver?adjust_creative=-_rtnR0u1hOegsQjj73OBg&utm_campaign=yelp_api_v3&utm_medium=api_v3_business_search&utm_source=-_rtnR0u1hOegsQjj73OBg",
         "review_count": 95,
         "categories": [
          {
           "alias": "coffee",
           "title": "Coffee & Tea"
          },
          {
           "alias": "juicebars",
           "title": "Juice Bars & Smoothies"
          },
          {
           "alias": "sandwiches",
           "title": "Sandwiches"
          }
         ],
         "rating": 5,
         "coordinates": {
          "latitude": 49.2802573019756,
          "longitude": -123.120230028369
         },
         "transactions": [],
         "price": "$",
         "location": {
          "address1": "843 Seymour Street",
          "address2": "",
          "address3": "",
          "city": "Vancouver",
          "zip_code": "V6B 3L4",
          "country": "CA",
          "state": "BC",
          "display_address": [
           "843 Seymour Street",
           "Vancouver, BC V6B 3L4",
           "Canada"
          ]
         },
         "phone": "+16044283888",
         "display_phone": "+1 604-428-3888",
         "distance": 4614.719892700781
        },
        {
         "id": "XFkhu9HNNx6fx1Iz6aRPeA",
         "alias": "l-atelier-patisserie-vancouver-2",
         "name": "L'atelier Patisserie",
         "image_url": "https://s3-media2.fl.yelpcdn.com/bphoto/UF8Ew9LOHY1i2nMNaWn5ow/o.jpg",
         "is_closed": false,
         "url": "https://www.yelp.com/biz/l-atelier-patisserie-vancouver-2?adjust_creative=-_rtnR0u1hOegsQjj73OBg&utm_campaign=yelp_api_v3&utm_medium=api_v3_business_search&utm_source=-_rtnR0u1hOegsQjj73OBg",
         "review_count": 70,
         "categories": [
          {
           "alias": "bakeries",
           "title": "Bakeries"
          },
          {
           "alias": "french",
           "title": "French"
          }
         ],
         "rating": 5,
         "coordinates": {
          "latitude": 49.26618,
          "longitude": -123.0993
         },
         "transactions": [],
         "price": "$",
         "location": {
          "address1": "120-260 E 5th Ave",
          "address2": "",
          "address3": null,
          "city": "Vancouver",
          "zip_code": "V5T 1H3",
          "country": "CA",
          "state": "BC",
          "display_address": [
           "120-260 E 5th Ave",
           "Vancouver, BC V5T 1H3",
           "Canada"
          ]
         },
         "phone": "+16043296153",
         "display_phone": "+1 604-329-6153",
         "distance": 4093.7336998788223
        },
        {
         "id": "n1xMU0r3fNWozj6vYNEnqQ",
         "alias": "hot-cha-cafe-vancouver",
         "name": "Hot Cha Cafe",
         "image_url": "https://s3-media2.fl.yelpcdn.com/bphoto/4kbd_H4d9gPtoGpj5_Eqvg/o.jpg",
         "is_closed": false,
         "url": "https://www.yelp.com/biz/hot-cha-cafe-vancouver?adjust_creative=-_rtnR0u1hOegsQjj73OBg&utm_campaign=yelp_api_v3&utm_medium=api_v3_business_search&utm_source=-_rtnR0u1hOegsQjj73OBg",
         "review_count": 35,
         "categories": [
          {
           "alias": "juicebars",
           "title": "Juice Bars & Smoothies"
          },
          {
           "alias": "icecream",
           "title": "Ice Cream & Frozen Yogurt"
          },
          {
           "alias": "bubbletea",
           "title": "Bubble Tea"
          }
         ],
         "rating": 5,
         "coordinates": {
          "latitude": 49.2556974,
          "longitude": -123.1149056
         },
         "transactions": [],
         "price": "$",
         "location": {
          "address1": "3306 Cambie Street",
          "address2": null,
          "address3": "",
          "city": "Vancouver",
          "zip_code": "V5Z 2W5",
          "country": "CA",
          "state": "BC",
          "display_address": [
           "3306 Cambie Street",
           "Vancouver, BC V5Z 2W5",
           "Canada"
          ]
         },
         "phone": "+16043369338",
         "display_phone": "+1 604-336-9338",
         "distance": 2469.5397151408038
        },
        {
         "id": "E1W37ovBz6IVo5SEHVfD0g",
         "alias": "peaked-pies-vancouver",
         "name": "Peaked Pies",
         "image_url": "https://s3-media4.fl.yelpcdn.com/bphoto/pqAgrh6hEQnz6cau6cpVCA/o.jpg",
         "is_closed": false,
         "url": "https://www.yelp.com/biz/peaked-pies-vancouver?adjust_creative=-_rtnR0u1hOegsQjj73OBg&utm_campaign=yelp_api_v3&utm_medium=api_v3_business_search&utm_source=-_rtnR0u1hOegsQjj73OBg",
         "review_count": 170,
         "categories": [
          {
           "alias": "australian",
           "title": "Australian"
          },
          {
           "alias": "bakeries",
           "title": "Bakeries"
          },
          {
           "alias": "hotdogs",
           "title": "Fast Food"
          }
         ],
         "rating": 4.5,
         "coordinates": {
          "latitude": 49.2896489,
          "longitude": -123.1384797
         },
         "transactions": [],
         "price": "$",
         "location": {
          "address1": "975 Denman Street",
          "address2": null,
          "address3": "",
          "city": "Vancouver",
          "zip_code": "V6G",
          "country": "CA",
          "state": "BC",
          "display_address": [
           "975 Denman Street",
           "Vancouver, BC V6G",
           "Canada"
          ]
         },
         "phone": "+17783795612",
         "display_phone": "+1 778-379-5612",
         "distance": 5431.369225043356
        },
        {
         "id": "iHr346j7FGUY4JQoeEKXMA",
         "alias": "harvest-deli-vancouver",
         "name": "Harvest Deli",
         "image_url": "https://s3-media2.fl.yelpcdn.com/bphoto/sOKFwh1ZF9M5Tjh33USI6A/o.jpg",
         "is_closed": false,
         "url": "https://www.yelp.com/biz/harvest-deli-vancouver?adjust_creative=-_rtnR0u1hOegsQjj73OBg&utm_campaign=yelp_api_v3&utm_medium=api_v3_business_search&utm_source=-_rtnR0u1hOegsQjj73OBg",
         "review_count": 130,
         "categories": [
          {
           "alias": "delis",
           "title": "Delis"
          },
          {
           "alias": "breakfast_brunch",
           "title": "Breakfast & Brunch"
          },
          {
           "alias": "sandwiches",
           "title": "Sandwiches"
          }
         ],
         "rating": 4.5,
         "coordinates": {
          "latitude": 49.2642749,
          "longitude": -123.1715916
         },
         "transactions": [],
         "price": "$",
         "location": {
          "address1": "2963 W Broadway",
          "address2": "",
          "address3": "",
          "city": "Vancouver",
          "zip_code": "V6K 2G9",
          "country": "CA",
          "state": "BC",
          "display_address": [
           "2963 W Broadway",
           "Vancouver, BC V6K 2G9",
           "Canada"
          ]
         },
         "phone": "+16047393354",
         "display_phone": "+1 604-739-3354",
         "distance": 3466.1042259572714
        },
        {
         "id": "A8ab1QjPyC10m9NAKQkliA",
         "alias": "fritz-european-fry-house-vancouver",
         "name": "Fritz European Fry House",
         "image_url": "https://s3-media4.fl.yelpcdn.com/bphoto/zF1eCO8iNyoLKMpJ5ZO62Q/o.jpg",
         "is_closed": false,
         "url": "https://www.yelp.com/biz/fritz-european-fry-house-vancouver?adjust_creative=-_rtnR0u1hOegsQjj73OBg&utm_campaign=yelp_api_v3&utm_medium=api_v3_business_search&utm_source=-_rtnR0u1hOegsQjj73OBg",
         "review_count": 730,
         "categories": [
          {
           "alias": "hotdogs",
           "title": "Fast Food"
          },
          {
           "alias": "poutineries",
           "title": "Poutineries"
          },
          {
           "alias": "modern_european",
           "title": "Modern European"
          }
         ],
         "rating": 4,
         "coordinates": {
          "latitude": 49.2772045,
          "longitude": -123.1265253
         },
         "transactions": [],
         "price": "$",
         "location": {
          "address1": "718 Davie Street",
          "address2": "",
          "address3": "",
          "city": "Vancouver",
          "zip_code": "V6Z 1B6",
          "country": "CA",
          "state": "BC",
          "display_address": [
           "718 Davie Street",
           "Vancouver, BC V6Z 1B6",
           "Canada"
          ]
         },
         "phone": "+16046840811",
         "display_phone": "+1 604-684-0811",
         "distance": 4170.389516846655
        },
        {
         "id": "AXLvoD64xJkpemCa2-Ld2g",
         "alias": "the-patty-shop-vancouver",
         "name": "The Patty Shop",
         "image_url": "https://s3-media1.fl.yelpcdn.com/bphoto/zjSlFl3Kvh3VJ3HwPpWSIw/o.jpg",
         "is_closed": false,
         "url": "https://www.yelp.com/biz/the-patty-shop-vancouver?adjust_creative=-_rtnR0u1hOegsQjj73OBg&utm_campaign=yelp_api_v3&utm_medium=api_v3_business_search&utm_source=-_rtnR0u1hOegsQjj73OBg",
         "review_count": 97,
         "categories": [
          {
           "alias": "caribbean",
           "title": "Caribbean"
          }
         ],
         "rating": 4.5,
         "coordinates": {
          "latitude": 49.250721434013,
          "longitude": -123.167994263811
         },
         "transactions": [],
         "price": "$",
         "location": {
          "address1": "4019 MacDonald Street",
          "address2": "",
          "address3": "",
          "city": "Vancouver",
          "zip_code": "V6L 2N8",
          "country": "CA",
          "state": "BC",
          "display_address": [
           "4019 MacDonald Street",
           "Vancouver, BC V6L 2N8",
           "Canada"
          ]
         },
         "phone": "+16047382144",
         "display_phone": "+1 604-738-2144",
         "distance": 2292.116383568746
        },
        {
         "id": "OpagbGwT8j4ydy0sOVtU8g",
         "alias": "bon-crepe-vancouver",
         "name": "Bon Crepe",
         "image_url": "https://s3-media2.fl.yelpcdn.com/bphoto/aMPy5bknz3kruAciqlfg0g/o.jpg",
         "is_closed": false,
         "url": "https://www.yelp.com/biz/bon-crepe-vancouver?adjust_creative=-_rtnR0u1hOegsQjj73OBg&utm_campaign=yelp_api_v3&utm_medium=api_v3_business_search&utm_source=-_rtnR0u1hOegsQjj73OBg",
         "review_count": 144,
         "categories": [
          {
           "alias": "creperies",
           "title": "Creperies"
          },
          {
           "alias": "icecream",
           "title": "Ice Cream & Frozen Yogurt"
          }
         ],
         "rating": 4.5,
         "coordinates": {
          "latitude": 49.2861033,
          "longitude": -123.1273892
         },
         "transactions": [],
         "price": "$",
         "location": {
          "address1": "1238 Robson Street",
          "address2": "",
          "address3": "",
          "city": "Vancouver",
          "zip_code": "V6E 1C1",
          "country": "CA",
          "state": "BC",
          "display_address": [
           "1238 Robson Street",
           "Vancouver, BC V6E 1C1",
           "Canada"
          ]
         },
         "phone": "+16046823634",
         "display_phone": "+1 604-682-3634",
         "distance": 5126.741723254378
        },
        {
         "id": "r_3c4veGoHCXFUDuB-WfdA",
         "alias": "mr-mustache-bubble-tea-vancouver",
         "name": "Mr Mustache Bubble Tea",
         "image_url": "https://s3-media2.fl.yelpcdn.com/bphoto/wd5hZXuLgVVlOVis8MIyDw/o.jpg",
         "is_closed": false,
         "url": "https://www.yelp.com/biz/mr-mustache-bubble-tea-vancouver?adjust_creative=-_rtnR0u1hOegsQjj73OBg&utm_campaign=yelp_api_v3&utm_medium=api_v3_business_search&utm_source=-_rtnR0u1hOegsQjj73OBg",
         "review_count": 113,
         "categories": [
          {
           "alias": "bubbletea",
           "title": "Bubble Tea"
          },
          {
           "alias": "desserts",
           "title": "Desserts"
          }
         ],
         "rating": 4.5,
         "coordinates": {
          "latitude": 49.2125070604829,
          "longitude": -123.140618528883
         },
         "transactions": [],
         "price": "$",
         "location": {
          "address1": "8079 Granville Street",
          "address2": null,
          "address3": "",
          "city": "Vancouver",
          "zip_code": "V6P 4Z5",
          "country": "CA",
          "state": "BC",
          "display_address": [
           "8079 Granville Street",
           "Vancouver, BC V6P 4Z5",
           "Canada"
          ]
         },
         "phone": "+17786801658",
         "display_phone": "+1 778-680-1658",
         "distance": 3153.727512023103
        },
        {
         "id": "GVqtAlXtjrRzsNqd6rzkxA",
         "alias": "lost-found-café-vancouver",
         "name": "Lost + Found Café",
         "image_url": "https://s3-media2.fl.yelpcdn.com/bphoto/NAdbFPpa0wsYCvpzd4Ub2w/o.jpg",
         "is_closed": false,
         "url": "https://www.yelp.com/biz/lost-found-caf%C3%A9-vancouver?adjust_creative=-_rtnR0u1hOegsQjj73OBg&utm_campaign=yelp_api_v3&utm_medium=api_v3_business_search&utm_source=-_rtnR0u1hOegsQjj73OBg",
         "review_count": 106,
         "categories": [
          {
           "alias": "cafes",
           "title": "Cafes"
          },
          {
           "alias": "coffee",
           "title": "Coffee & Tea"
          },
          {
           "alias": "sandwiches",
           "title": "Sandwiches"
          }
         ],
         "rating": 4.5,
         "coordinates": {
          "latitude": 49.2818496,
          "longitude": -123.1057864
         },
         "transactions": [],
         "price": "$",
         "location": {
          "address1": "33 W Hastings Street",
          "address2": "",
          "address3": "",
          "city": "Vancouver",
          "zip_code": "V6B 1G4",
          "country": "CA",
          "state": "BC",
          "display_address": [
           "33 W Hastings Street",
           "Vancouver, BC V6B 1G4",
           "Canada"
          ]
         },
         "phone": "+16045597444",
         "display_phone": "+1 604-559-7444",
         "distance": 5198.383359802348
        },
        {
         "id": "WJJajrWufzhcnaP43jPIDA",
         "alias": "mr-shawarma-vancouver-2",
         "name": "Mr Shawarma",
         "image_url": "https://s3-media1.fl.yelpcdn.com/bphoto/PpSI-MdObQMNcR_Dtd-pqQ/o.jpg",
         "is_closed": false,
         "url": "https://www.yelp.com/biz/mr-shawarma-vancouver-2?adjust_creative=-_rtnR0u1hOegsQjj73OBg&utm_campaign=yelp_api_v3&utm_medium=api_v3_business_search&utm_source=-_rtnR0u1hOegsQjj73OBg",
         "review_count": 145,
         "categories": [
          {
           "alias": "mideastern",
           "title": "Middle Eastern"
          },
          {
           "alias": "foodtrucks",
           "title": "Food Trucks"
          }
         ],
         "rating": 4.5,
         "coordinates": {
          "latitude": 49.28526,
          "longitude": -123.12075
         },
         "transactions": [],
         "price": "$",
         "location": {
          "address1": "655 Burrard St",
          "address2": "",
          "address3": "",
          "city": "Vancouver",
          "zip_code": "V6E 1B2",
          "country": "CA",
          "state": "BC",
          "display_address": [
           "655 Burrard St",
           "Vancouver, BC V6E 1B2",
           "Canada"
          ]
         },
         "phone": "+16045691644",
         "display_phone": "+1 604-569-1644",
         "distance": 5140.059795083882
        },
        {
         "id": "z-1HXkudDPE4bY1TbCwE8Q",
         "alias": "la-belle-patate-vancouver",
         "name": "La Belle Patate",
         "image_url": "https://s3-media2.fl.yelpcdn.com/bphoto/E_t3OaBM-LvoDmosVg-RSA/o.jpg",
         "is_closed": false,
         "url": "https://www.yelp.com/biz/la-belle-patate-vancouver?adjust_creative=-_rtnR0u1hOegsQjj73OBg&utm_campaign=yelp_api_v3&utm_medium=api_v3_business_search&utm_source=-_rtnR0u1hOegsQjj73OBg",
         "review_count": 503,
         "categories": [
          {
           "alias": "hotdogs",
           "title": "Fast Food"
          },
          {
           "alias": "poutineries",
           "title": "Poutineries"
          }
         ],
         "rating": 4,
         "coordinates": {
          "latitude": 49.2820547306569,
          "longitude": -123.133442922354
         },
         "transactions": [],
         "price": "$",
         "location": {
          "address1": "1215 Davie Street",
          "address2": "",
          "address3": "",
          "city": "Vancouver",
          "zip_code": "V6E 1N4",
          "country": "CA",
          "state": "BC",
          "display_address": [
           "1215 Davie Street",
           "Vancouver, BC V6E 1N4",
           "Canada"
          ]
         },
         "phone": "+16045691215",
         "display_phone": "+1 604-569-1215",
         "distance": 4606.351119317553
        },
        {
         "id": "0iEFOEQIvk7RFcOo_jkOGA",
         "alias": "japadog-vancouver-16",
         "name": "Japadog",
         "image_url": "https://s3-media3.fl.yelpcdn.com/bphoto/GvgrLBO1NcphhcOZKK99_w/o.jpg",
         "is_closed": false,
         "url": "https://www.yelp.com/biz/japadog-vancouver-16?adjust_creative=-_rtnR0u1hOegsQjj73OBg&utm_campaign=yelp_api_v3&utm_medium=api_v3_business_search&utm_source=-_rtnR0u1hOegsQjj73OBg",
         "review_count": 984,
         "categories": [
          {
           "alias": "hotdog",
           "title": "Hot Dogs"
          },
          {
           "alias": "foodstands",
           "title": "Food Stands"
          }
         ],
         "rating": 4,
         "coordinates": {
          "latitude": 49.2823501230721,
          "longitude": -123.12433719635
         },
         "transactions": [],
         "price": "$",
         "location": {
          "address1": "899 Burrard Street",
          "address2": null,
          "address3": "",
          "city": "Vancouver",
          "zip_code": "V6Z 2K6",
          "country": "CA",
          "state": "BC",
          "display_address": [
           "899 Burrard Street",
           "Vancouver, BC V6Z 2K6",
           "Canada"
          ]
         },
         "phone": "",
         "display_phone": "",
         "distance": 4755.066176234591
        },
        {
         "id": "mT1rn_dTTTuKhK_DyK_Dzg",
         "alias": "gigi-blin-vancouver-2",
         "name": "Gigi Blin",
         "image_url": "https://s3-media4.fl.yelpcdn.com/bphoto/w1TuNEuK-EwjqhZqs4taeg/o.jpg",
         "is_closed": false,
         "url": "https://www.yelp.com/biz/gigi-blin-vancouver-2?adjust_creative=-_rtnR0u1hOegsQjj73OBg&utm_campaign=yelp_api_v3&utm_medium=api_v3_business_search&utm_source=-_rtnR0u1hOegsQjj73OBg",
         "review_count": 65,
         "categories": [
          {
           "alias": "cafes",
           "title": "Cafes"
          },
          {
           "alias": "coffee",
           "title": "Coffee & Tea"
          },
          {
           "alias": "bakeries",
           "title": "Bakeries"
          }
         ],
         "rating": 4.5,
         "coordinates": {
          "latitude": 49.20844,
          "longitude": -123.13811
         },
         "transactions": [],
         "price": "$",
         "location": {
          "address1": "1400 W 70th Avenue",
          "address2": "",
          "address3": "",
          "city": "Vancouver",
          "zip_code": "V6P 2Z2",
          "country": "CA",
          "state": "BC",
          "display_address": [
           "1400 W 70th Avenue",
           "Vancouver, BC V6P 2Z2",
           "Canada"
          ]
         },
         "phone": "+16042258447",
         "display_phone": "+1 604-225-8447",
         "distance": 3611.103669781053
        },
        {
         "id": "gX0vuxzCD2aFBEeRUFJWpg",
         "alias": "breka-bakery-and-cafe-vancouver-3",
         "name": "Breka Bakery & Cafe",
         "image_url": "https://s3-media3.fl.yelpcdn.com/bphoto/PbOOmfWwN66Z68zoxBmNQg/o.jpg",
         "is_closed": false,
         "url": "https://www.yelp.com/biz/breka-bakery-and-cafe-vancouver-3?adjust_creative=-_rtnR0u1hOegsQjj73OBg&utm_campaign=yelp_api_v3&utm_medium=api_v3_business_search&utm_source=-_rtnR0u1hOegsQjj73OBg",
         "review_count": 264,
         "categories": [
          {
           "alias": "coffee",
           "title": "Coffee & Tea"
          },
          {
           "alias": "bakeries",
           "title": "Bakeries"
          },
          {
           "alias": "cakeshop",
           "title": "Patisserie/Cake Shop"
          }
         ],
         "rating": 4,
         "coordinates": {
          "latitude": 49.2784333930687,
          "longitude": -123.127897942266
         },
         "transactions": [],
         "price": "$",
         "location": {
          "address1": "855 Davie Street",
          "address2": "",
          "address3": "",
          "city": "Vancouver",
          "zip_code": "V6Z 1B7",
          "country": "CA",
          "state": "BC",
          "display_address": [
           "855 Davie Street",
           "Vancouver, BC V6Z 1B7",
           "Canada"
          ]
         },
         "phone": "+16044288080",
         "display_phone": "+1 604-428-8080",
         "distance": 4272.277699805094
        },
        {
         "id": "Mrl7ilHI2WU_tsxSQnsUig",
         "alias": "konbiniya-japan-centre-vancouver-2",
         "name": "Konbiniya Japan Centre",
         "image_url": "https://s3-media1.fl.yelpcdn.com/bphoto/dwZx-t4qaivwQYdcp2nxsQ/o.jpg",
         "is_closed": false,
         "url": "https://www.yelp.com/biz/konbiniya-japan-centre-vancouver-2?adjust_creative=-_rtnR0u1hOegsQjj73OBg&utm_campaign=yelp_api_v3&utm_medium=api_v3_business_search&utm_source=-_rtnR0u1hOegsQjj73OBg",
         "review_count": 163,
         "categories": [
          {
           "alias": "intlgrocery",
           "title": "International Grocery"
          }
         ],
         "rating": 4,
         "coordinates": {
          "latitude": 49.2861033,
          "longitude": -123.1273892
         },
         "transactions": [],
         "price": "$",
         "location": {
          "address1": "1238 Robson Street",
          "address2": "",
          "address3": "",
          "city": "Vancouver",
          "zip_code": "V6E 1C1",
          "country": "CA",
          "state": "BC",
          "display_address": [
           "1238 Robson Street",
           "Vancouver, BC V6E 1C1",
           "Canada"
          ]
         },
         "phone": "+16046823634",
         "display_phone": "+1 604-682-3634",
         "distance": 5126.741723254378
        },
        {
         "id": "lQlJvXi19RJs_q4xR6gcNg",
         "alias": "excellent-tofu-and-snacks-richmond",
         "name": "Excellent Tofu & Snacks",
         "image_url": "https://s3-media2.fl.yelpcdn.com/bphoto/3t9ytSjXaVHIZulaFkIVJQ/o.jpg",
         "is_closed": false,
         "url": "https://www.yelp.com/biz/excellent-tofu-and-snacks-richmond?adjust_creative=-_rtnR0u1hOegsQjj73OBg&utm_campaign=yelp_api_v3&utm_medium=api_v3_business_search&utm_source=-_rtnR0u1hOegsQjj73OBg",
         "review_count": 154,
         "categories": [
          {
           "alias": "desserts",
           "title": "Desserts"
          },
          {
           "alias": "chinese",
           "title": "Chinese"
          }
         ],
         "rating": 4,
         "coordinates": {
          "latitude": 49.1826466,
          "longitude": -123.1336595
         },
         "transactions": [],
         "price": "$",
         "location": {
          "address1": "4231 Hazelbridge Way",
          "address2": "Suite 160",
          "address3": "",
          "city": "Richmond",
          "zip_code": "V6X 3L7",
          "country": "CA",
          "state": "BC",
          "display_address": [
           "4231 Hazelbridge Way",
           "Suite 160",
           "Richmond, BC V6X 3L7",
           "Canada"
          ]
         },
         "phone": "+16042320268",
         "display_phone": "+1 604-232-0268",
         "distance": 6512.900435259688
        },
        {
         "id": "pITkBUEZVcpxKwF348KAtw",
         "alias": "vegan-pudding-vancouver",
         "name": "Vegan Pudding",
         "image_url": "https://s3-media1.fl.yelpcdn.com/bphoto/Jukw1ob5W-9gozlr_MXhQw/o.jpg",
         "is_closed": false,
         "url": "https://www.yelp.com/biz/vegan-pudding-vancouver?adjust_creative=-_rtnR0u1hOegsQjj73OBg&utm_campaign=yelp_api_v3&utm_medium=api_v3_business_search&utm_source=-_rtnR0u1hOegsQjj73OBg",
         "review_count": 81,
         "categories": [
          {
           "alias": "desserts",
           "title": "Desserts"
          },
          {
           "alias": "vegan",
           "title": "Vegan"
          }
         ],
         "rating": 4.5,
         "coordinates": {
          "latitude": 49.2837981796105,
          "longitude": -123.11221144443
         },
         "transactions": [],
         "price": "$",
         "location": {
          "address1": "422 Richards Street",
          "address2": "Suite 101",
          "address3": "",
          "city": "Vancouver",
          "zip_code": "V6B 2Z4",
          "country": "CA",
          "state": "BC",
          "display_address": [
           "422 Richards Street",
           "Suite 101",
           "Vancouver, BC V6B 2Z4",
           "Canada"
          ]
         },
         "phone": "+17783790545",
         "display_phone": "+1 778-379-0545",
         "distance": 5189.354143485279
        },
        {
         "id": "A0F6H8OO3qYAvI2L3OCp1g",
         "alias": "dragon-ball-tea-house-vancouver",
         "name": "Dragon Ball Tea House",
         "image_url": "https://s3-media2.fl.yelpcdn.com/bphoto/N3oMeOqxLjG_rj87pm9XaA/o.jpg",
         "is_closed": false,
         "url": "https://www.yelp.com/biz/dragon-ball-tea-house-vancouver?adjust_creative=-_rtnR0u1hOegsQjj73OBg&utm_campaign=yelp_api_v3&utm_medium=api_v3_business_search&utm_source=-_rtnR0u1hOegsQjj73OBg",
         "review_count": 265,
         "categories": [
          {
           "alias": "coffee",
           "title": "Coffee & Tea"
          },
          {
           "alias": "bubbletea",
           "title": "Bubble Tea"
          }
         ],
         "rating": 4,
         "coordinates": {
          "latitude": 49.2494649,
          "longitude": -123.1278285
         },
         "transactions": [],
         "price": "$",
         "location": {
          "address1": "1007 W King Edward Avenue",
          "address2": "",
          "address3": "",
          "city": "Vancouver",
          "zip_code": "V6H 1Z3",
          "country": "CA",
          "state": "BC",
          "display_address": [
           "1007 W King Edward Avenue",
           "Vancouver, BC V6H 1Z3",
           "Canada"
          ]
         },
         "phone": "+16047383198",
         "display_phone": "+1 604-738-3198",
         "distance": 1311.8866459218264
        },
        {
         "id": "uKuzCH4RaKp2mZih7DQcNQ",
         "alias": "the-coffee-bun-north-vancouver",
         "name": "The Coffee Bun",
         "image_url": "https://s3-media1.fl.yelpcdn.com/bphoto/vnFMgWdeUuSORjd6YI6rCg/o.jpg",
         "is_closed": false,
         "url": "https://www.yelp.com/biz/the-coffee-bun-north-vancouver?adjust_creative=-_rtnR0u1hOegsQjj73OBg&utm_campaign=yelp_api_v3&utm_medium=api_v3_business_search&utm_source=-_rtnR0u1hOegsQjj73OBg",
         "review_count": 77,
         "categories": [
          {
           "alias": "bakeries",
           "title": "Bakeries"
          },
          {
           "alias": "coffee",
           "title": "Coffee & Tea"
          },
          {
           "alias": "desserts",
           "title": "Desserts"
          }
         ],
         "rating": 4.5,
         "coordinates": {
          "latitude": 49.3100182038893,
          "longitude": -123.082964115679
         },
         "transactions": [],
         "price": "$",
         "location": {
          "address1": "147 Chadwick Court",
          "address2": "",
          "address3": "",
          "city": "North Vancouver",
          "zip_code": "V7M 3K1",
          "country": "CA",
          "state": "BC",
          "display_address": [
           "147 Chadwick Court",
           "North Vancouver, BC V7M 3K1",
           "Canada"
          ]
         },
         "phone": "+16049887900",
         "display_phone": "+1 604-988-7900",
         "distance": 8740.65060704081
        },
        {
         "id": "eaCBdNeGw6UKyXfxlEGmag",
         "alias": "breka-bakery-and-cafe-vancouver",
         "name": "Breka Bakery & Cafe",
         "image_url": "https://s3-media1.fl.yelpcdn.com/bphoto/v5Mu3vt7D31pdo2phKpK1A/o.jpg",
         "is_closed": false,
         "url": "https://www.yelp.com/biz/breka-bakery-and-cafe-vancouver?adjust_creative=-_rtnR0u1hOegsQjj73OBg&utm_campaign=yelp_api_v3&utm_medium=api_v3_business_search&utm_source=-_rtnR0u1hOegsQjj73OBg",
         "review_count": 234,
         "categories": [
          {
           "alias": "bakeries",
           "title": "Bakeries"
          },
          {
           "alias": "coffee",
           "title": "Coffee & Tea"
          },
          {
           "alias": "cakeshop",
           "title": "Patisserie/Cake Shop"
          }
         ],
         "rating": 4,
         "coordinates": {
          "latitude": 49.2250339,
          "longitude": -123.0909349
         },
         "transactions": [],
         "price": "$",
         "location": {
          "address1": "6533 Fraser Street",
          "address2": "",
          "address3": "",
          "city": "Vancouver",
          "zip_code": "V5X 3T4",
          "country": "CA",
          "state": "BC",
          "display_address": [
           "6533 Fraser Street",
           "Vancouver, BC V5X 3T4",
           "Canada"
          ]
         },
         "phone": "+16043256612",
         "display_phone": "+1 604-325-6612",
         "distance": 3982.0520486688374
        },
        {
         "id": "CcNjx7Y8fWhuApJa2cY56w",
         "alias": "papparoti-vancouver-5",
         "name": "PappaRoti",
         "image_url": "https://s3-media3.fl.yelpcdn.com/bphoto/qyXLl565LtWlHqkAL-mzWA/o.jpg",
         "is_closed": false,
         "url": "https://www.yelp.com/biz/papparoti-vancouver-5?adjust_creative=-_rtnR0u1hOegsQjj73OBg&utm_campaign=yelp_api_v3&utm_medium=api_v3_business_search&utm_source=-_rtnR0u1hOegsQjj73OBg",
         "review_count": 238,
         "categories": [
          {
           "alias": "coffee",
           "title": "Coffee & Tea"
          },
          {
           "alias": "juicebars",
           "title": "Juice Bars & Smoothies"
          },
          {
           "alias": "sandwiches",
           "title": "Sandwiches"
          }
         ],
         "rating": 4,
         "coordinates": {
          "latitude": 49.2889087,
          "longitude": -123.1312063
         },
         "transactions": [],
         "price": "$",
         "location": {
          "address1": "1505 Robson Street",
          "address2": "",
          "address3": "",
          "city": "Vancouver",
          "zip_code": "V6G 1C3",
          "country": "CA",
          "state": "BC",
          "display_address": [
           "1505 Robson Street",
           "Vancouver, BC V6G 1C3",
           "Canada"
          ]
         },
         "phone": "+16043362867",
         "display_phone": "+1 604-336-2867",
         "distance": 5381.144944767945
        },
        {
         "id": "MbdhO2b7-88vSPrSfyqaRw",
         "alias": "mello-vancouver-2",
         "name": "Mello",
         "image_url": "https://s3-media4.fl.yelpcdn.com/bphoto/Ux-8Fikb_JgjjmM6nvB3QA/o.jpg",
         "is_closed": false,
         "url": "https://www.yelp.com/biz/mello-vancouver-2?adjust_creative=-_rtnR0u1hOegsQjj73OBg&utm_campaign=yelp_api_v3&utm_medium=api_v3_business_search&utm_source=-_rtnR0u1hOegsQjj73OBg",
         "review_count": 76,
         "categories": [
          {
           "alias": "donuts",
           "title": "Donuts"
          },
          {
           "alias": "coffee",
           "title": "Coffee & Tea"
          },
          {
           "alias": "icecream",
           "title": "Ice Cream & Frozen Yogurt"
          }
         ],
         "rating": 4.5,
         "coordinates": {
          "latitude": 49.2804877,
          "longitude": -123.0991741
         },
         "transactions": [],
         "price": "$",
         "location": {
          "address1": "223 East Pender Street",
          "address2": null,
          "address3": "",
          "city": "Vancouver",
          "zip_code": "V6A 2T9",
          "country": "CA",
          "state": "BC",
          "display_address": [
           "223 East Pender Street",
           "Vancouver, BC V6A 2T9",
           "Canada"
          ]
         },
         "phone": "+16044233556",
         "display_phone": "+1 604-423-3556",
         "distance": 5332.108603346367
        },
        {
         "id": "jUEU9Xp1Db4ppPKBxAKIBw",
         "alias": "caffe-w-vancouver-3",
         "name": "Caffe W",
         "image_url": "https://s3-media4.fl.yelpcdn.com/bphoto/YAbkdN6xaGnP4m6VQYhGLA/o.jpg",
         "is_closed": false,
         "url": "https://www.yelp.com/biz/caffe-w-vancouver-3?adjust_creative=-_rtnR0u1hOegsQjj73OBg&utm_campaign=yelp_api_v3&utm_medium=api_v3_business_search&utm_source=-_rtnR0u1hOegsQjj73OBg",
         "review_count": 33,
         "categories": [
          {
           "alias": "coffee",
           "title": "Coffee & Tea"
          },
          {
           "alias": "desserts",
           "title": "Desserts"
          }
         ],
         "rating": 4.5,
         "coordinates": {
          "latitude": 49.2642329148272,
          "longitude": -123.184700036754
         },
         "transactions": [],
         "price": "$",
         "location": {
          "address1": "3646 W Broadway",
          "address2": "",
          "address3": "",
          "city": "Vancouver",
          "zip_code": "V6R 3R8",
          "country": "CA",
          "state": "BC",
          "display_address": [
           "3646 W Broadway",
           "Vancouver, BC V6R 3R8",
           "Canada"
          ]
         },
         "phone": "+16047309298",
         "display_phone": "+1 604-730-9298",
         "distance": 4141.716337511389
        },
        {
         "id": "6z7n23MVDKde3EZuCccaAQ",
         "alias": "flourist-vancouver-3",
         "name": "Flourist",
         "image_url": "https://s3-media4.fl.yelpcdn.com/bphoto/xv2MKQcflS8-H3HXseRaqA/o.jpg",
         "is_closed": false,
         "url": "https://www.yelp.com/biz/flourist-vancouver-3?adjust_creative=-_rtnR0u1hOegsQjj73OBg&utm_campaign=yelp_api_v3&utm_medium=api_v3_business_search&utm_source=-_rtnR0u1hOegsQjj73OBg",
         "review_count": 40,
         "categories": [
          {
           "alias": "cafes",
           "title": "Cafes"
          },
          {
           "alias": "bakeries",
           "title": "Bakeries"
          }
         ],
         "rating": 4.5,
         "coordinates": {
          "latitude": 49.2538433,
          "longitude": -123.0681805
         },
         "transactions": [],
         "price": "$",
         "location": {
          "address1": "3433 Commercial Street",
          "address2": "",
          "address3": null,
          "city": "Vancouver",
          "zip_code": "V5N 4E8",
          "country": "CA",
          "state": "BC",
          "display_address": [
           "3433 Commercial Street",
           "Vancouver, BC V5N 4E8",
           "Canada"
          ]
         },
         "phone": "+16043369423",
         "display_phone": "+1 604-336-9423",
         "distance": 5424.0715438249235
        },
        {
         "id": "-OPJmI98OfSf9mNHC_VLYA",
         "alias": "union-food-market-vancouver",
         "name": "Union Food Market",
         "image_url": "https://s3-media3.fl.yelpcdn.com/bphoto/Ez8jcLeRfE0ECuwRUs9f0A/o.jpg",
         "is_closed": false,
         "url": "https://www.yelp.com/biz/union-food-market-vancouver?adjust_creative=-_rtnR0u1hOegsQjj73OBg&utm_campaign=yelp_api_v3&utm_medium=api_v3_business_search&utm_source=-_rtnR0u1hOegsQjj73OBg",
         "review_count": 33,
         "categories": [
          {
           "alias": "grocery",
           "title": "Grocery"
          },
          {
           "alias": "coffee",
           "title": "Coffee & Tea"
          },
          {
           "alias": "bakeries",
           "title": "Bakeries"
          }
         ],
         "rating": 4.5,
         "coordinates": {
          "latitude": 49.2773401,
          "longitude": -123.0869244
         },
         "transactions": [],
         "price": "$",
         "location": {
          "address1": "810 Union Street",
          "address2": "",
          "address3": "",
          "city": "Vancouver",
          "zip_code": "V6A 2C4",
          "country": "CA",
          "state": "BC",
          "display_address": [
           "810 Union Street",
           "Vancouver, BC V6A 2C4",
           "Canada"
          ]
         },
         "phone": "+16042555025",
         "display_phone": "+1 604-255-5025",
         "distance": 5606.026203456961
        },
        {
         "id": "kDngP9_faKpmgLAr3JVvoA",
         "alias": "bubble-bear-cafe-vancouver-3",
         "name": "Bubble Bear Cafe",
         "image_url": "https://s3-media2.fl.yelpcdn.com/bphoto/i2RIfZ-iXmE7VV3Nt23y3Q/o.jpg",
         "is_closed": false,
         "url": "https://www.yelp.com/biz/bubble-bear-cafe-vancouver-3?adjust_creative=-_rtnR0u1hOegsQjj73OBg&utm_campaign=yelp_api_v3&utm_medium=api_v3_business_search&utm_source=-_rtnR0u1hOegsQjj73OBg",
         "review_count": 30,
         "categories": [
          {
           "alias": "bubbletea",
           "title": "Bubble Tea"
          }
         ],
         "rating": 4.5,
         "coordinates": {
          "latitude": 49.2126959118964,
          "longitude": -123.140492905915
         },
         "transactions": [],
         "price": "$",
         "location": {
          "address1": "8051 Granville Street",
          "address2": "",
          "address3": null,
          "city": "Vancouver",
          "zip_code": "V6P 4Z5",
          "country": "CA",
          "state": "BC",
          "display_address": [
           "8051 Granville Street",
           "Vancouver, BC V6P 4Z5",
           "Canada"
          ]
         },
         "phone": "+16042662668",
         "display_phone": "+1 604-266-2668",
         "distance": 3132.666151708616
        },
        {
         "id": "RQRRllOVx1hYJ3yYhiqQlQ",
         "alias": "hawkers-delight-deli-vancouver",
         "name": "Hawkers Delight Deli",
         "image_url": "https://s3-media2.fl.yelpcdn.com/bphoto/t5eosTOr_okVbURuyeJS4A/o.jpg",
         "is_closed": false,
         "url": "https://www.yelp.com/biz/hawkers-delight-deli-vancouver?adjust_creative=-_rtnR0u1hOegsQjj73OBg&utm_campaign=yelp_api_v3&utm_medium=api_v3_business_search&utm_source=-_rtnR0u1hOegsQjj73OBg",
         "review_count": 330,
         "categories": [
          {
           "alias": "delis",
           "title": "Delis"
          },
          {
           "alias": "malaysian",
           "title": "Malaysian"
          },
          {
           "alias": "singaporean",
           "title": "Singaporean"
          }
         ],
         "rating": 4,
         "coordinates": {
          "latitude": 49.248375,
          "longitude": -123.101287
         },
         "transactions": [],
         "price": "$",
         "location": {
          "address1": "4127 Main Street",
          "address2": "",
          "address3": "",
          "city": "Vancouver",
          "zip_code": "V5V 3P6",
          "country": "CA",
          "state": "BC",
          "display_address": [
           "4127 Main Street",
           "Vancouver, BC V5V 3P6",
           "Canada"
          ]
         },
         "phone": "+16047098188",
         "display_phone": "+1 604-709-8188",
         "distance": 2949.5888967836727
        },
        {
         "id": "RxiPusKlkh92t6pmhHf99Q",
         "alias": "a-bread-affair-vancouver",
         "name": "A Bread Affair",
         "image_url": "https://s3-media3.fl.yelpcdn.com/bphoto/DqhQLadKw7r3JgqGPQbXxg/o.jpg",
         "is_closed": false,
         "url": "https://www.yelp.com/biz/a-bread-affair-vancouver?adjust_creative=-_rtnR0u1hOegsQjj73OBg&utm_campaign=yelp_api_v3&utm_medium=api_v3_business_search&utm_source=-_rtnR0u1hOegsQjj73OBg",
         "review_count": 84,
         "categories": [
          {
           "alias": "bakeries",
           "title": "Bakeries"
          },
          {
           "alias": "sandwiches",
           "title": "Sandwiches"
          }
         ],
         "rating": 4,
         "coordinates": {
          "latitude": 49.2724508745628,
          "longitude": -123.135854241387
         },
         "transactions": [],
         "price": "$",
         "location": {
          "address1": "1680 Johnston Street",
          "address2": "",
          "address3": "",
          "city": "Vancouver",
          "zip_code": "V6H 3S2",
          "country": "CA",
          "state": "BC",
          "display_address": [
           "1680 Johnston Street",
           "Vancouver, BC V6H 3S2",
           "Canada"
          ]
         },
         "phone": "+16046950000",
         "display_phone": "+1 604-695-0000",
         "distance": 3526.3391401127246
        },
        {
         "id": "QKJk53cz78UTl1uwxukcOw",
         "alias": "bon-macaron-patisserie-vancouver",
         "name": "Bon Macaron Patisserie",
         "image_url": "https://s3-media2.fl.yelpcdn.com/bphoto/tf8jTyAiMX3C0jIG5dL5kg/o.jpg",
         "is_closed": false,
         "url": "https://www.yelp.com/biz/bon-macaron-patisserie-vancouver?adjust_creative=-_rtnR0u1hOegsQjj73OBg&utm_campaign=yelp_api_v3&utm_medium=api_v3_business_search&utm_source=-_rtnR0u1hOegsQjj73OBg",
         "review_count": 43,
         "categories": [
          {
           "alias": "bakeries",
           "title": "Bakeries"
          },
          {
           "alias": "gluten_free",
           "title": "Gluten-Free"
          },
          {
           "alias": "macarons",
           "title": "Macarons"
          }
         ],
         "rating": 4.5,
         "coordinates": {
          "latitude": 49.2642349,
          "longitude": -123.1690458
         },
         "transactions": [],
         "price": "$",
         "location": {
          "address1": "2823 W Broadway",
          "address2": "",
          "address3": "",
          "city": "Vancouver",
          "zip_code": "V6K 2G6",
          "country": "CA",
          "state": "BC",
          "display_address": [
           "2823 W Broadway",
           "Vancouver, BC V6K 2G6",
           "Canada"
          ]
         },
         "phone": "+17783796065",
         "display_phone": "+1 778-379-6065",
         "distance": 3342.5357198874085
        },
        {
         "id": "MHmiktXwzeR2pP8Iek1EdA",
         "alias": "footo-croissant-vancouver-2",
         "name": "Footo Croissant",
         "image_url": "https://s3-media2.fl.yelpcdn.com/bphoto/kHxa6w1-s1Iw-Gb2_6HsxQ/o.jpg",
         "is_closed": false,
         "url": "https://www.yelp.com/biz/footo-croissant-vancouver-2?adjust_creative=-_rtnR0u1hOegsQjj73OBg&utm_campaign=yelp_api_v3&utm_medium=api_v3_business_search&utm_source=-_rtnR0u1hOegsQjj73OBg",
         "review_count": 110,
         "categories": [
          {
           "alias": "bakeries",
           "title": "Bakeries"
          },
          {
           "alias": "coffee",
           "title": "Coffee & Tea"
          },
          {
           "alias": "breakfast_brunch",
           "title": "Breakfast & Brunch"
          }
         ],
         "rating": 4,
         "coordinates": {
          "latitude": 49.2782338,
          "longitude": -123.1165056
         },
         "transactions": [],
         "price": "$",
         "location": {
          "address1": "858 Hamilton Street",
          "address2": "",
          "address3": "",
          "city": "Vancouver",
          "zip_code": "V6B 6A2",
          "country": "CA",
          "state": "BC",
          "display_address": [
           "858 Hamilton Street",
           "Vancouver, BC V6B 6A2",
           "Canada"
          ]
         },
         "phone": "+16045686500",
         "display_phone": "+1 604-568-6500",
         "distance": 4496.745200425426
        },
        {
         "id": "cJhAH8Rzh3JIz2wAvgVztw",
         "alias": "wicks-café-vancouver-2",
         "name": "Wick's Café",
         "image_url": "https://s3-media2.fl.yelpcdn.com/bphoto/qyPKxzXgqxIp3OSE5VFebw/o.jpg",
         "is_closed": false,
         "url": "https://www.yelp.com/biz/wicks-caf%C3%A9-vancouver-2?adjust_creative=-_rtnR0u1hOegsQjj73OBg&utm_campaign=yelp_api_v3&utm_medium=api_v3_business_search&utm_source=-_rtnR0u1hOegsQjj73OBg",
         "review_count": 61,
         "categories": [
          {
           "alias": "cafes",
           "title": "Cafes"
          }
         ],
         "rating": 4,
         "coordinates": {
          "latitude": 49.20407,
          "longitude": -123.13521
         },
         "transactions": [],
         "price": "$",
         "location": {
          "address1": "1300 W 73rd Avenue",
          "address2": "",
          "address3": "",
          "city": "Vancouver",
          "zip_code": "V6P 3E7",
          "country": "CA",
          "state": "BC",
          "display_address": [
           "1300 W 73rd Avenue",
           "Vancouver, BC V6P 3E7",
           "Canada"
          ]
         },
         "phone": "+16046776396",
         "display_phone": "+1 604-677-6396",
         "distance": 4109.811906470143
        },
        {
         "id": "8_Luerj7LEVuSb5ll_7hlg",
         "alias": "tartine-bread-and-pies-vancouver-2",
         "name": "Tartine Bread & Pies",
         "image_url": "https://s3-media4.fl.yelpcdn.com/bphoto/1GYr0u0Vn949NzOScNLDEg/o.jpg",
         "is_closed": false,
         "url": "https://www.yelp.com/biz/tartine-bread-and-pies-vancouver-2?adjust_creative=-_rtnR0u1hOegsQjj73OBg&utm_campaign=yelp_api_v3&utm_medium=api_v3_business_search&utm_source=-_rtnR0u1hOegsQjj73OBg",
         "review_count": 70,
         "categories": [
          {
           "alias": "desserts",
           "title": "Desserts"
          },
          {
           "alias": "bakeries",
           "title": "Bakeries"
          },
          {
           "alias": "sandwiches",
           "title": "Sandwiches"
          }
         ],
         "rating": 4,
         "coordinates": {
          "latitude": 49.2799538,
          "longitude": -123.1302658
         },
         "transactions": [],
         "price": "$",
         "location": {
          "address1": "1069 Davie Street",
          "address2": "",
          "address3": "",
          "city": "Vancouver",
          "zip_code": "V6E 1M5",
          "country": "CA",
          "state": "BC",
          "display_address": [
           "1069 Davie Street",
           "Vancouver, BC V6E 1M5",
           "Canada"
          ]
         },
         "phone": "+16046857427",
         "display_phone": "+1 604-685-7427",
         "distance": 4432.426882585921
        },
        {
         "id": "1EwMLL5N5KtdBHRKTvyxow",
         "alias": "sweet-memory-richmond-3",
         "name": "Sweet Memory",
         "image_url": "https://s3-media4.fl.yelpcdn.com/bphoto/bgKctAMnXrP15Mf7X5C7nw/o.jpg",
         "is_closed": false,
         "url": "https://www.yelp.com/biz/sweet-memory-richmond-3?adjust_creative=-_rtnR0u1hOegsQjj73OBg&utm_campaign=yelp_api_v3&utm_medium=api_v3_business_search&utm_source=-_rtnR0u1hOegsQjj73OBg",
         "review_count": 58,
         "categories": [
          {
           "alias": "desserts",
           "title": "Desserts"
          },
          {
           "alias": "taiwanese",
           "title": "Taiwanese"
          },
          {
           "alias": "chinese",
           "title": "Chinese"
          }
         ],
         "rating": 4,
         "coordinates": {
          "latitude": 49.1796164846578,
          "longitude": -123.134789257818
         },
         "transactions": [],
         "price": "$",
         "location": {
          "address1": "8080 Leslie Road",
          "address2": "",
          "address3": null,
          "city": "Richmond",
          "zip_code": "V6X 1E4",
          "country": "CA",
          "state": "BC",
          "display_address": [
           "8080 Leslie Road",
           "Richmond, BC V6X 1E4",
           "Canada"
          ]
         },
         "phone": "+16043702882",
         "display_phone": "+1 604-370-2882",
         "distance": 6822.4594622128625
        },
        {
         "id": "7Ouec2qlKyXnFrZc1tWIRQ",
         "alias": "bubble-world-vancouver",
         "name": "Bubble World",
         "image_url": "https://s3-media3.fl.yelpcdn.com/bphoto/O47NJ_xcqrnK49lMLx-y1Q/o.jpg",
         "is_closed": false,
         "url": "https://www.yelp.com/biz/bubble-world-vancouver?adjust_creative=-_rtnR0u1hOegsQjj73OBg&utm_campaign=yelp_api_v3&utm_medium=api_v3_business_search&utm_source=-_rtnR0u1hOegsQjj73OBg",
         "review_count": 153,
         "categories": [
          {
           "alias": "taiwanese",
           "title": "Taiwanese"
          },
          {
           "alias": "bubbletea",
           "title": "Bubble Tea"
          },
          {
           "alias": "chinese",
           "title": "Chinese"
          }
         ],
         "rating": 4,
         "coordinates": {
          "latitude": 49.2874205,
          "longitude": -123.128873
         },
         "transactions": [],
         "price": "$",
         "location": {
          "address1": "1325 Robson Street",
          "address2": "",
          "address3": "",
          "city": "Vancouver",
          "zip_code": "V6E 1C6",
          "country": "CA",
          "state": "BC",
          "display_address": [
           "1325 Robson Street",
           "Vancouver, BC V6E 1C6",
           "Canada"
          ]
         },
         "phone": "+16046898987",
         "display_phone": "+1 604-689-8987",
         "distance": 5242.091891235105
        },
        {
         "id": "JvnNRQgMv5EIBZOvtRtQPQ",
         "alias": "siegels-bagels-vancouver",
         "name": "Siegel's Bagels",
         "image_url": "https://s3-media1.fl.yelpcdn.com/bphoto/sqfnW0izqig-mBck23q67w/o.jpg",
         "is_closed": false,
         "url": "https://www.yelp.com/biz/siegels-bagels-vancouver?adjust_creative=-_rtnR0u1hOegsQjj73OBg&utm_campaign=yelp_api_v3&utm_medium=api_v3_business_search&utm_source=-_rtnR0u1hOegsQjj73OBg",
         "review_count": 122,
         "categories": [
          {
           "alias": "bagels",
           "title": "Bagels"
          },
          {
           "alias": "bakeries",
           "title": "Bakeries"
          },
          {
           "alias": "sandwiches",
           "title": "Sandwiches"
          }
         ],
         "rating": 4,
         "coordinates": {
          "latitude": 49.2726237,
          "longitude": -123.1356235
         },
         "transactions": [],
         "price": "$",
         "location": {
          "address1": "134-1689 Johnston Street",
          "address2": "",
          "address3": "",
          "city": "Vancouver",
          "zip_code": "V6H 3R9",
          "country": "CA",
          "state": "BC",
          "display_address": [
           "134-1689 Johnston Street",
           "Vancouver, BC V6H 3R9",
           "Canada"
          ]
         },
         "phone": "+16046855670",
         "display_phone": "+1 604-685-5670",
         "distance": 3558.5578439264523
        },
        {
         "id": "CHKCh3Wk3YC-BH286ZeIQA",
         "alias": "oomomo-vancouver",
         "name": "Oomomo",
         "image_url": "https://s3-media1.fl.yelpcdn.com/bphoto/1VBFh7xuwweTJ6Yo90_VNA/o.jpg",
         "is_closed": false,
         "url": "https://www.yelp.com/biz/oomomo-vancouver?adjust_creative=-_rtnR0u1hOegsQjj73OBg&utm_campaign=yelp_api_v3&utm_medium=api_v3_business_search&utm_source=-_rtnR0u1hOegsQjj73OBg",
         "review_count": 79,
         "categories": [
          {
           "alias": "cosmetics",
           "title": "Cosmetics & Beauty Supply"
          },
          {
           "alias": "kitchensupplies",
           "title": "Kitchen Supplies"
          },
          {
           "alias": "intlgrocery",
           "title": "International Grocery"
          }
         ],
         "rating": 4,
         "coordinates": {
          "latitude": 49.28029,
          "longitude": -123.10675
         },
         "transactions": [],
         "price": "$",
         "location": {
          "address1": "1199 - 88 W Pender Street",
          "address2": "",
          "address3": "International Village Mall",
          "city": "Vancouver",
          "zip_code": "V6B 6N9",
          "country": "CA",
          "state": "BC",
          "display_address": [
           "1199 - 88 W Pender Street",
           "International Village Mall",
           "Vancouver, BC V6B 6N9",
           "Canada"
          ]
         },
         "phone": "+16046828073",
         "display_phone": "+1 604-682-8073",
         "distance": 5045.641824052187
        },
        {
         "id": "1KvquwPRCt6FHz9bVrlNLA",
         "alias": "yougo-chicken-richmond",
         "name": "Yougo Chicken",
         "image_url": "https://s3-media1.fl.yelpcdn.com/bphoto/bkBKCSBSp-aZG-RTGut03w/o.jpg",
         "is_closed": false,
         "url": "https://www.yelp.com/biz/yougo-chicken-richmond?adjust_creative=-_rtnR0u1hOegsQjj73OBg&utm_campaign=yelp_api_v3&utm_medium=api_v3_business_search&utm_source=-_rtnR0u1hOegsQjj73OBg",
         "review_count": 37,
         "categories": [
          {
           "alias": "taiwanese",
           "title": "Taiwanese"
          }
         ],
         "rating": 4,
         "coordinates": {
          "latitude": 49.1836768604411,
          "longitude": -123.133784942329
         },
         "transactions": [],
         "price": "$",
         "location": {
          "address1": "4151 Hazelbridge Way",
          "address2": "Unit 3120",
          "address3": "",
          "city": "Richmond",
          "zip_code": "V6X 0A4",
          "country": "CA",
          "state": "BC",
          "display_address": [
           "4151 Hazelbridge Way",
           "Unit 3120",
           "Richmond, BC V6X 0A4",
           "Canada"
          ]
         },
         "phone": "+16042856695",
         "display_phone": "+1 604-285-6695",
         "distance": 6376.750784126737
        },
        {
         "id": "TKrKl4iRmKY5N_q9zVxNTA",
         "alias": "breka-bakery-and-cafe-vancouver-4",
         "name": "Breka Bakery & Cafe",
         "image_url": "https://s3-media1.fl.yelpcdn.com/bphoto/qAgy61w3ashvyAFXJd6YYw/o.jpg",
         "is_closed": false,
         "url": "https://www.yelp.com/biz/breka-bakery-and-cafe-vancouver-4?adjust_creative=-_rtnR0u1hOegsQjj73OBg&utm_campaign=yelp_api_v3&utm_medium=api_v3_business_search&utm_source=-_rtnR0u1hOegsQjj73OBg",
         "review_count": 49,
         "categories": [
          {
           "alias": "bakeries",
           "title": "Bakeries"
          },
          {
           "alias": "coffee",
           "title": "Coffee & Tea"
          },
          {
           "alias": "cakeshop",
           "title": "Patisserie/Cake Shop"
          }
         ],
         "rating": 4,
         "coordinates": {
          "latitude": 49.2685151,
          "longitude": -123.1866134
         },
         "transactions": [],
         "price": "$",
         "location": {
          "address1": "3750 W 4th Avenue",
          "address2": "",
          "address3": null,
          "city": "Vancouver",
          "zip_code": "V6R 1P3",
          "country": "CA",
          "state": "BC",
          "display_address": [
           "3750 W 4th Avenue",
           "Vancouver, BC V6R 1P3",
           "Canada"
          ]
         },
         "phone": "+16046203750",
         "display_phone": "+1 604-620-3750",
         "distance": 4566.975262793315
        },
        {
         "id": "9VPzKycFJAuq0C0GB1rPHQ",
         "alias": "james-snacks-richmond",
         "name": "James Snacks",
         "image_url": "https://s3-media1.fl.yelpcdn.com/bphoto/tmPGVD6CFafRLA4HgliThQ/o.jpg",
         "is_closed": false,
         "url": "https://www.yelp.com/biz/james-snacks-richmond?adjust_creative=-_rtnR0u1hOegsQjj73OBg&utm_campaign=yelp_api_v3&utm_medium=api_v3_business_search&utm_source=-_rtnR0u1hOegsQjj73OBg",
         "review_count": 23,
         "categories": [
          {
           "alias": "chinese",
           "title": "Chinese"
          }
         ],
         "rating": 4.5,
         "coordinates": {
          "latitude": 49.1808941,
          "longitude": -123.1363713
         },
         "transactions": [],
         "price": "$",
         "location": {
          "address1": "1160-4540 No 3 Road",
          "address2": "",
          "address3": "",
          "city": "Richmond",
          "zip_code": "V6X 4E8",
          "country": "CA",
          "state": "BC",
          "display_address": [
           "1160-4540 No 3 Road",
           "Richmond, BC V6X 4E8",
           "Canada"
          ]
         },
         "phone": "+16047161328",
         "display_phone": "+1 604-716-1328",
         "distance": 6677.196285390373
        },
        {
         "id": "8a8W2jtFwQRQW6_AXCvYDA",
         "alias": "wu-fung-dessert-richmond",
         "name": "Wu Fung Dessert",
         "image_url": "https://s3-media4.fl.yelpcdn.com/bphoto/MVbETuqlge81oYPzaN3m9Q/o.jpg",
         "is_closed": false,
         "url": "https://www.yelp.com/biz/wu-fung-dessert-richmond?adjust_creative=-_rtnR0u1hOegsQjj73OBg&utm_campaign=yelp_api_v3&utm_medium=api_v3_business_search&utm_source=-_rtnR0u1hOegsQjj73OBg",
         "review_count": 82,
         "categories": [
          {
           "alias": "chinese",
           "title": "Chinese"
          },
          {
           "alias": "chicken_wings",
           "title": "Chicken Wings"
          },
          {
           "alias": "food_court",
           "title": "Food Court"
          }
         ],
         "rating": 4,
         "coordinates": {
          "latitude": 49.18408,
          "longitude": -123.13404
         },
         "transactions": [],
         "price": "$",
         "location": {
          "address1": "4151 Hazelbridge Way",
          "address2": "",
          "address3": "",
          "city": "Richmond",
          "zip_code": "V6X 4J7",
          "country": "CA",
          "state": "BC",
          "display_address": [
           "4151 Hazelbridge Way",
           "Richmond, BC V6X 4J7",
           "Canada"
          ]
         },
         "phone": "+16042851516",
         "display_phone": "+1 604-285-1516",
         "distance": 6329.862103040632
        },
        {
         "id": "_x53w2dzVJiLW7vLd7qbjw",
         "alias": "sun-fresh-bakery-house-vancouver",
         "name": "Sun Fresh Bakery House",
         "image_url": "https://s3-media2.fl.yelpcdn.com/bphoto/cE8Whbrpwiwe-VmtIdfcKQ/o.jpg",
         "is_closed": false,
         "url": "https://www.yelp.com/biz/sun-fresh-bakery-house-vancouver?adjust_creative=-_rtnR0u1hOegsQjj73OBg&utm_campaign=yelp_api_v3&utm_medium=api_v3_business_search&utm_source=-_rtnR0u1hOegsQjj73OBg",
         "review_count": 39,
         "categories": [
          {
           "alias": "bakeries",
           "title": "Bakeries"
          }
         ],
         "rating": 4,
         "coordinates": {
          "latitude": 49.2797,
          "longitude": -123.09816
         },
         "transactions": [],
         "price": "$",
         "location": {
          "address1": "245 Keefer Street",
          "address2": "",
          "address3": "",
          "city": "Vancouver",
          "zip_code": "V6A 1X6",
          "country": "CA",
          "state": "BC",
          "display_address": [
           "245 Keefer Street",
           "Vancouver, BC V6A 1X6",
           "Canada"
          ]
         },
         "phone": "+16046883868",
         "display_phone": "+1 604-688-3868",
         "distance": 5290.152598545191
        },
        {
         "id": "SlpPXIV7WDlCyVjmNxkHuQ",
         "alias": "harmony-bakery-richmond",
         "name": "Harmony Bakery",
         "image_url": "https://s3-media2.fl.yelpcdn.com/bphoto/A-8M06ZVkbmV_uaSl1N3fQ/o.jpg",
         "is_closed": false,
         "url": "https://www.yelp.com/biz/harmony-bakery-richmond?adjust_creative=-_rtnR0u1hOegsQjj73OBg&utm_campaign=yelp_api_v3&utm_medium=api_v3_business_search&utm_source=-_rtnR0u1hOegsQjj73OBg",
         "review_count": 18,
         "categories": [
          {
           "alias": "bakeries",
           "title": "Bakeries"
          }
         ],
         "rating": 4.5,
         "coordinates": {
          "latitude": 49.1824604682562,
          "longitude": -123.133927216626
         },
         "transactions": [],
         "price": "$",
         "location": {
          "address1": "4231 Hazelbridge Way",
          "address2": "Suite 110",
          "address3": null,
          "city": "Richmond",
          "zip_code": "V6X 2C2",
          "country": "CA",
          "state": "BC",
          "display_address": [
           "4231 Hazelbridge Way",
           "Suite 110",
           "Richmond, BC V6X 2C2",
           "Canada"
          ]
         },
         "phone": "+16042851686",
         "display_phone": "+1 604-285-1686",
         "distance": 6510.908846164939
        },
        {
         "id": "rxitYHqI6mY-tnhieahY6Q",
         "alias": "snack-land-vancouver-2",
         "name": "Snack Land",
         "image_url": "https://s3-media1.fl.yelpcdn.com/bphoto/nezqw6ZqZvdhAcVX1X9HnA/o.jpg",
         "is_closed": false,
         "url": "https://www.yelp.com/biz/snack-land-vancouver-2?adjust_creative=-_rtnR0u1hOegsQjj73OBg&utm_campaign=yelp_api_v3&utm_medium=api_v3_business_search&utm_source=-_rtnR0u1hOegsQjj73OBg",
         "review_count": 11,
         "categories": [
          {
           "alias": "convenience",
           "title": "Convenience Stores"
          },
          {
           "alias": "tobaccoshops",
           "title": "Tobacco Shops"
          }
         ],
         "rating": 4.5,
         "coordinates": {
          "latitude": 49.2579918,
          "longitude": -123.1015701
         },
         "transactions": [],
         "price": "$",
         "location": {
          "address1": "3011 Main Street",
          "address2": "",
          "address3": "",
          "city": "Vancouver",
          "zip_code": "V5T 3G6",
          "country": "CA",
          "state": "BC",
          "display_address": [
           "3011 Main Street",
           "Vancouver, BC V5T 3G6",
           "Canada"
          ]
         },
         "phone": "+17783799667",
         "display_phone": "+1 778-379-9667",
         "distance": 3414.1747130053323
        },
        {
         "id": "iqpIjB9IboWbM2_QbQ3fRA",
         "alias": "laurelles-fine-foods-vancouver",
         "name": "Laurelle's Fine Foods",
         "image_url": "https://s3-media1.fl.yelpcdn.com/bphoto/ztvM2ETuaHf3OC4FzVqFTQ/o.jpg",
         "is_closed": false,
         "url": "https://www.yelp.com/biz/laurelles-fine-foods-vancouver?adjust_creative=-_rtnR0u1hOegsQjj73OBg&utm_campaign=yelp_api_v3&utm_medium=api_v3_business_search&utm_source=-_rtnR0u1hOegsQjj73OBg",
         "review_count": 35,
         "categories": [
          {
           "alias": "bakeries",
           "title": "Bakeries"
          },
          {
           "alias": "delis",
           "title": "Delis"
          }
         ],
         "rating": 4,
         "coordinates": {
          "latitude": 49.2726237,
          "longitude": -123.1356235
         },
         "transactions": [],
         "price": "$",
         "location": {
          "address1": "1689 Johnston Street",
          "address2": "Suite 148",
          "address3": "",
          "city": "Vancouver",
          "zip_code": "V6H 3R9",
          "country": "CA",
          "state": "BC",
          "display_address": [
           "1689 Johnston Street",
           "Suite 148",
           "Vancouver, BC V6H 3R9",
           "Canada"
          ]
         },
         "phone": "+16046858482",
         "display_phone": "+1 604-685-8482",
         "distance": 3558.5578439264523
        },
        {
         "id": "hyXE1slEyalK8CY102rBgA",
         "alias": "le-tigre-cuisine-richmond",
         "name": "Le Tigre Cuisine",
         "image_url": "https://s3-media2.fl.yelpcdn.com/bphoto/eLjhlXNHjlyObCt1fbLHKg/o.jpg",
         "is_closed": false,
         "url": "https://www.yelp.com/biz/le-tigre-cuisine-richmond?adjust_creative=-_rtnR0u1hOegsQjj73OBg&utm_campaign=yelp_api_v3&utm_medium=api_v3_business_search&utm_source=-_rtnR0u1hOegsQjj73OBg",
         "review_count": 30,
         "categories": [
          {
           "alias": "foodtrucks",
           "title": "Food Trucks"
          }
         ],
         "rating": 4,
         "coordinates": {
          "latitude": 49.19358,
          "longitude": -123.13076
         },
         "transactions": [],
         "price": "$",
         "location": {
          "address1": null,
          "address2": null,
          "address3": null,
          "city": "Richmond",
          "zip_code": "V6X 1Y4",
          "country": "CA",
          "state": "BC",
          "display_address": [
           "Richmond, BC V6X 1Y4",
           "Canada"
          ]
         },
         "phone": "+17789902853",
         "display_phone": "+1 778-990-2853",
         "distance": 5354.2961563774725
        },
        {
         "id": "dpiIBgNHh_jVwVtC8680Jg",
         "alias": "nusa-coffee-vancouver",
         "name": "Nusa Coffee",
         "image_url": "https://s3-media1.fl.yelpcdn.com/bphoto/ttiJxlwBt6KaKIdKI2syFQ/o.jpg",
         "is_closed": false,
         "url": "https://www.yelp.com/biz/nusa-coffee-vancouver?adjust_creative=-_rtnR0u1hOegsQjj73OBg&utm_campaign=yelp_api_v3&utm_medium=api_v3_business_search&utm_source=-_rtnR0u1hOegsQjj73OBg",
         "review_count": 14,
         "categories": [
          {
           "alias": "coffee",
           "title": "Coffee & Tea"
          },
          {
           "alias": "sandwiches",
           "title": "Sandwiches"
          },
          {
           "alias": "juicebars",
           "title": "Juice Bars & Smoothies"
          }
         ],
         "rating": 4.5,
         "coordinates": {
          "latitude": 49.268245,
          "longitude": -123.167802
         },
         "transactions": [],
         "price": "$",
         "location": {
          "address1": "2766 W 4th Avenue",
          "address2": "",
          "address3": "",
          "city": "Vancouver",
          "zip_code": "V6K 1R1",
          "country": "CA",
          "state": "BC",
          "display_address": [
           "2766 W 4th Avenue",
           "Vancouver, BC V6K 1R1",
           "Canada"
          ]
         },
         "phone": "+17783794733",
         "display_phone": "+1 778-379-4733",
         "distance": 3641.8183491279683
        },
        {
         "id": "se9HqgkXDs2VySCEwb13wg",
         "alias": "peqish-vancouver-3",
         "name": "Peqish",
         "image_url": "https://s3-media4.fl.yelpcdn.com/bphoto/RO2vvhGAEPzUKdwBdJHxBw/o.jpg",
         "is_closed": false,
         "url": "https://www.yelp.com/biz/peqish-vancouver-3?adjust_creative=-_rtnR0u1hOegsQjj73OBg&utm_campaign=yelp_api_v3&utm_medium=api_v3_business_search&utm_source=-_rtnR0u1hOegsQjj73OBg",
         "review_count": 28,
         "categories": [
          {
           "alias": "salad",
           "title": "Salad"
          },
          {
           "alias": "sandwiches",
           "title": "Sandwiches"
          },
          {
           "alias": "bakeries",
           "title": "Bakeries"
          }
         ],
         "rating": 4,
         "coordinates": {
          "latitude": 49.2832832,
          "longitude": -123.1147079
         },
         "transactions": [],
         "price": "$",
         "location": {
          "address1": "552 Seymour Street",
          "address2": "",
          "address3": "",
          "city": "Vancouver",
          "zip_code": "V6B 3J5",
          "country": "CA",
          "state": "BC",
          "display_address": [
           "552 Seymour Street",
           "Vancouver, BC V6B 3J5",
           "Canada"
          ]
         },
         "phone": "+16046813999",
         "display_phone": "+1 604-681-3999",
         "distance": 5077.061465768163
        },
        {
         "id": "uJNfd4CrU3dD7RjLnHzodg",
         "alias": "angus-t-vancouver",
         "name": "Angus T",
         "image_url": "https://s3-media1.fl.yelpcdn.com/bphoto/H6yCqgWBStQ1AqJ878UHeA/o.jpg",
         "is_closed": false,
         "url": "https://www.yelp.com/biz/angus-t-vancouver?adjust_creative=-_rtnR0u1hOegsQjj73OBg&utm_campaign=yelp_api_v3&utm_medium=api_v3_business_search&utm_source=-_rtnR0u1hOegsQjj73OBg",
         "review_count": 44,
         "categories": [
          {
           "alias": "cafes",
           "title": "Cafes"
          },
          {
           "alias": "bakeries",
           "title": "Bakeries"
          }
         ],
         "rating": 4,
         "coordinates": {
          "latitude": 49.2762326068102,
          "longitude": -123.119233623147
         },
         "transactions": [],
         "price": "$",
         "location": {
          "address1": "1036 Mainland Street",
          "address2": "",
          "address3": null,
          "city": "Vancouver",
          "zip_code": "V6B 2T4",
          "country": "CA",
          "state": "BC",
          "display_address": [
           "1036 Mainland Street",
           "Vancouver, BC V6B 2T4",
           "Canada"
          ]
         },
         "phone": "+16045595989",
         "display_phone": "+1 604-559-5989",
         "distance": 4217.977523050443
        },
        {
         "id": "Z1f1N7Z5k9DgGNolklJYzQ",
         "alias": "bubble-waffle-richmond-2",
         "name": "Bubble Waffle",
         "image_url": "https://s3-media4.fl.yelpcdn.com/bphoto/YjmuCH_Sqft9uYjosQzWkQ/o.jpg",
         "is_closed": false,
         "url": "https://www.yelp.com/biz/bubble-waffle-richmond-2?adjust_creative=-_rtnR0u1hOegsQjj73OBg&utm_campaign=yelp_api_v3&utm_medium=api_v3_business_search&utm_source=-_rtnR0u1hOegsQjj73OBg",
         "review_count": 104,
         "categories": [
          {
           "alias": "chinese",
           "title": "Chinese"
          },
          {
           "alias": "waffles",
           "title": "Waffles"
          },
          {
           "alias": "cafes",
           "title": "Cafes"
          }
         ],
         "rating": 3.5,
         "coordinates": {
          "latitude": 49.183849,
          "longitude": -123.133721
         },
         "transactions": [],
         "price": "$",
         "location": {
          "address1": "4151 Hazelbridge Way",
          "address2": "Unit 3000",
          "address3": "",
          "city": "Richmond",
          "zip_code": "V6X 0A4",
          "country": "CA",
          "state": "BC",
          "display_address": [
           "4151 Hazelbridge Way",
           "Unit 3000",
           "Richmond, BC V6X 0A4",
           "Canada"
          ]
         },
         "phone": "+16042701234",
         "display_phone": "+1 604-270-1234",
         "distance": 6358.007212295833
        }
       ],
       "total": 471,
       "region": {
        "center": {
         "longitude": -123.1402587890625,
         "latitude": 49.24086827180507
        }
       }
      }
     },
     "metadata": {
      "application/json": {
       "expanded": false,
       "root": "root"
      }
     },
     "execution_count": 4
    }
   ],
   "source": [
    "JSON(van_west_snack_yelp)"
   ]
  },
  {
   "cell_type": "code",
   "execution_count": 5,
   "metadata": {},
   "outputs": [],
   "source": [
    "responses=[bby_snack_yelp,rmd_snack_yelp,van_dt_snack_yelp,van_west_snack_yelp]\n",
    "area=['bby','rmd','van_dt','van_west']"
   ]
  },
  {
   "cell_type": "code",
   "execution_count": 6,
   "metadata": {},
   "outputs": [],
   "source": [
    "business={\n",
    "    'name':[],\n",
    "    'loc':[],\n",
    "    'rating':[],\n",
    "    'price':[],\n",
    "    'area':[],\n",
    "    'categories':[]\n",
    "}\n",
    "\n",
    "for ind in range(len(responses)):\n",
    "    a=area[ind]\n",
    "    response=responses[ind]\n",
    "    for i in range(len(response['businesses'])):\n",
    "        business['name'].append(response['businesses'][i]['name'])\n",
    "        business['loc'].append((\n",
    "            response['businesses'][i]['coordinates']['latitude'],\n",
    "            response['businesses'][i]['coordinates']['longitude']))\n",
    "        business['rating'].append(response['businesses'][i]['rating'])\n",
    "        business['area'].append(a)\n",
    "        try:\n",
    "            business['price'].append(response['businesses'][i]['price'])\n",
    "        except:\n",
    "            business['price'].append('na')\n",
    "        try:\n",
    "            types=response['businesses'][i]['categories']\n",
    "            res=[]\n",
    "            for i in range(len(types)):\n",
    "                res.append(types[i]['title'])\n",
    "            business['categories'].append(res)\n",
    "        except:\n",
    "            business['categories'].append('na')\n",
    "        \n",
    "    "
   ]
  },
  {
   "cell_type": "code",
   "execution_count": 7,
   "metadata": {},
   "outputs": [
    {
     "output_type": "execute_result",
     "data": {
      "text/plain": [
       "                      name                                    loc  rating  \\\n",
       "0    Kozak Ukranian Eatery  (49.2114757572234, -122.918422905028)     4.5   \n",
       "1        Milk & Sugar Cafe        (49.2332961, -123.033879264874)     4.0   \n",
       "2         Dageraad Brewing                    (49.256, -122.9217)     4.5   \n",
       "3                Sugarloop  (49.2320255365222, -123.026281589961)     4.5   \n",
       "4      Steel & Oak Brewing             (49.2020752, -122.9271396)     4.5   \n",
       "..                     ...                                    ...     ...   \n",
       "195       Le Tigre Cuisine                 (49.19358, -123.13076)     4.0   \n",
       "196            Nusa Coffee               (49.268245, -123.167802)     4.5   \n",
       "197                 Peqish             (49.2832832, -123.1147079)     4.0   \n",
       "198                Angus T  (49.2762326068102, -123.119233623147)     4.0   \n",
       "199          Bubble Waffle               (49.183849, -123.133721)     3.5   \n",
       "\n",
       "    price      area                                         categories  \n",
       "0       $       bby                              [Bakeries, Ukrainian]  \n",
       "1       $       bby  [Ice Cream & Frozen Yogurt, Coffee & Tea, Juic...  \n",
       "2       $       bby                                        [Breweries]  \n",
       "3       $       bby                                  [Desserts, Cafes]  \n",
       "4       $       bby                                        [Breweries]  \n",
       "..    ...       ...                                                ...  \n",
       "195     $  van_west                                      [Food Trucks]  \n",
       "196     $  van_west  [Coffee & Tea, Sandwiches, Juice Bars & Smooth...  \n",
       "197     $  van_west                      [Salad, Sandwiches, Bakeries]  \n",
       "198     $  van_west                                  [Cafes, Bakeries]  \n",
       "199     $  van_west                          [Chinese, Waffles, Cafes]  \n",
       "\n",
       "[200 rows x 6 columns]"
      ],
      "text/html": "<div>\n<style scoped>\n    .dataframe tbody tr th:only-of-type {\n        vertical-align: middle;\n    }\n\n    .dataframe tbody tr th {\n        vertical-align: top;\n    }\n\n    .dataframe thead th {\n        text-align: right;\n    }\n</style>\n<table border=\"1\" class=\"dataframe\">\n  <thead>\n    <tr style=\"text-align: right;\">\n      <th></th>\n      <th>name</th>\n      <th>loc</th>\n      <th>rating</th>\n      <th>price</th>\n      <th>area</th>\n      <th>categories</th>\n    </tr>\n  </thead>\n  <tbody>\n    <tr>\n      <th>0</th>\n      <td>Kozak Ukranian Eatery</td>\n      <td>(49.2114757572234, -122.918422905028)</td>\n      <td>4.5</td>\n      <td>$</td>\n      <td>bby</td>\n      <td>[Bakeries, Ukrainian]</td>\n    </tr>\n    <tr>\n      <th>1</th>\n      <td>Milk &amp; Sugar Cafe</td>\n      <td>(49.2332961, -123.033879264874)</td>\n      <td>4.0</td>\n      <td>$</td>\n      <td>bby</td>\n      <td>[Ice Cream &amp; Frozen Yogurt, Coffee &amp; Tea, Juic...</td>\n    </tr>\n    <tr>\n      <th>2</th>\n      <td>Dageraad Brewing</td>\n      <td>(49.256, -122.9217)</td>\n      <td>4.5</td>\n      <td>$</td>\n      <td>bby</td>\n      <td>[Breweries]</td>\n    </tr>\n    <tr>\n      <th>3</th>\n      <td>Sugarloop</td>\n      <td>(49.2320255365222, -123.026281589961)</td>\n      <td>4.5</td>\n      <td>$</td>\n      <td>bby</td>\n      <td>[Desserts, Cafes]</td>\n    </tr>\n    <tr>\n      <th>4</th>\n      <td>Steel &amp; Oak Brewing</td>\n      <td>(49.2020752, -122.9271396)</td>\n      <td>4.5</td>\n      <td>$</td>\n      <td>bby</td>\n      <td>[Breweries]</td>\n    </tr>\n    <tr>\n      <th>...</th>\n      <td>...</td>\n      <td>...</td>\n      <td>...</td>\n      <td>...</td>\n      <td>...</td>\n      <td>...</td>\n    </tr>\n    <tr>\n      <th>195</th>\n      <td>Le Tigre Cuisine</td>\n      <td>(49.19358, -123.13076)</td>\n      <td>4.0</td>\n      <td>$</td>\n      <td>van_west</td>\n      <td>[Food Trucks]</td>\n    </tr>\n    <tr>\n      <th>196</th>\n      <td>Nusa Coffee</td>\n      <td>(49.268245, -123.167802)</td>\n      <td>4.5</td>\n      <td>$</td>\n      <td>van_west</td>\n      <td>[Coffee &amp; Tea, Sandwiches, Juice Bars &amp; Smooth...</td>\n    </tr>\n    <tr>\n      <th>197</th>\n      <td>Peqish</td>\n      <td>(49.2832832, -123.1147079)</td>\n      <td>4.0</td>\n      <td>$</td>\n      <td>van_west</td>\n      <td>[Salad, Sandwiches, Bakeries]</td>\n    </tr>\n    <tr>\n      <th>198</th>\n      <td>Angus T</td>\n      <td>(49.2762326068102, -123.119233623147)</td>\n      <td>4.0</td>\n      <td>$</td>\n      <td>van_west</td>\n      <td>[Cafes, Bakeries]</td>\n    </tr>\n    <tr>\n      <th>199</th>\n      <td>Bubble Waffle</td>\n      <td>(49.183849, -123.133721)</td>\n      <td>3.5</td>\n      <td>$</td>\n      <td>van_west</td>\n      <td>[Chinese, Waffles, Cafes]</td>\n    </tr>\n  </tbody>\n</table>\n<p>200 rows × 6 columns</p>\n</div>"
     },
     "metadata": {},
     "execution_count": 7
    }
   ],
   "source": [
    "df=pd.DataFrame(data=business,columns=business.keys())\n",
    "df"
   ]
  },
  {
   "cell_type": "code",
   "execution_count": 8,
   "metadata": {},
   "outputs": [],
   "source": [
    "def filter_loc_by_rat(rat):\n",
    "    filtered_df=df[df['rating']==rat]\n",
    "    loc=zip(*list(filtered_df['loc']))\n",
    "    return loc"
   ]
  },
  {
   "cell_type": "code",
   "execution_count": 9,
   "metadata": {},
   "outputs": [],
   "source": [
    "google_apikey=os.environ['GOOGLE_API_KEY']\n",
    "gmap = gmplot.GoogleMapPlotter(49.2827,-123.1207,11,apikey=google_apikey)\n",
    "\n",
    "gmap.scatter(*filter_loc_by_rat(5),color='red', marker=True)\n",
    "gmap.scatter(*filter_loc_by_rat(4.5),color='orange',marker=True)\n",
    "gmap.scatter(*filter_loc_by_rat(4),color='orange',marker=True)\n",
    "gmap.scatter(*filter_loc_by_rat(3),color='yellow',marker=True)\n",
    "gmap.scatter(*filter_loc_by_rat(3.5),color='yellow',marker=True)\n",
    "gmap.draw('map.html')"
   ]
  },
  {
   "cell_type": "code",
   "execution_count": 10,
   "metadata": {},
   "outputs": [],
   "source": [
    "google_apikey=os.environ['GOOGLE_API_KEY']\n",
    "gmap = gmplot.GoogleMapPlotter(49.2827,-123.1207,10,apikey=google_apikey)\n",
    "\n",
    "gmap.heatmap(*zip(*list(df['loc'])))\n",
    "gmap.draw('heatmap.html')"
   ]
  },
  {
   "cell_type": "code",
   "execution_count": 20,
   "metadata": {},
   "outputs": [
    {
     "output_type": "execute_result",
     "data": {
      "text/plain": [
       "['Bakeries', 'Ukrainian']"
      ]
     },
     "metadata": {},
     "execution_count": 20
    }
   ],
   "source": [
    "df['categories'][0]"
   ]
  },
  {
   "cell_type": "code",
   "execution_count": 14,
   "metadata": {},
   "outputs": [],
   "source": [
    "flavors_all=['Asian Fusion','Chinese','French','Hawaiian','Japanese','Indonesian','Korean','Latin American',\n",
    " 'Malaysian','Mexican',\n",
    " 'Middle Eastern',\n",
    " 'Modern European','Russian','Singaporean',\n",
    " 'Taiwanese',\n",
    " 'Turkish',\n",
    " 'Ukrainian',\n",
    " 'Vietnamese',]"
   ]
  },
  {
   "cell_type": "code",
   "execution_count": 15,
   "metadata": {},
   "outputs": [],
   "source": [
    "flavors=[]\n",
    "for word in df['categories'][0]:\n",
    "    if word in flavors_all:\n",
    "        flavors.append(word)"
   ]
  },
  {
   "cell_type": "code",
   "execution_count": 16,
   "metadata": {},
   "outputs": [
    {
     "output_type": "execute_result",
     "data": {
      "text/plain": [
       "['Ukrainian']"
      ]
     },
     "metadata": {},
     "execution_count": 16
    }
   ],
   "source": [
    "flavors"
   ]
  },
  {
   "cell_type": "code",
   "execution_count": 58,
   "metadata": {},
   "outputs": [],
   "source": [
    "col=[]\n",
    "for i in range(df['categories'].shape[0]):\n",
    "    flavors=[]\n",
    "    for word in df['categories'][i]:\n",
    "        if word in flavors_all:\n",
    "            flavors.append(word)\n",
    "            col.append((i,word))\n",
    "            break"
   ]
  },
  {
   "cell_type": "code",
   "execution_count": 69,
   "metadata": {},
   "outputs": [],
   "source": [
    "category=pd.DataFrame(col,columns={0,'flavor'}).set_index(0)\n",
    "df=df.join(category)"
   ]
  },
  {
   "cell_type": "code",
   "execution_count": 72,
   "metadata": {},
   "outputs": [],
   "source": [
    "df['flavor'].fillna('cafe',inplace=True)"
   ]
  },
  {
   "cell_type": "code",
   "execution_count": 76,
   "metadata": {},
   "outputs": [
    {
     "output_type": "execute_result",
     "data": {
      "text/plain": [
       "cafe               155\n",
       "Chinese             17\n",
       "Taiwanese            6\n",
       "Vietnamese           3\n",
       "Middle Eastern       3\n",
       "Modern European      2\n",
       "Malaysian            2\n",
       "French               2\n",
       "Japanese             2\n",
       "Mexican              1\n",
       "Asian Fusion         1\n",
       "Ukrainian            1\n",
       "Russian              1\n",
       "Korean               1\n",
       "Turkish              1\n",
       "Latin American       1\n",
       "Indonesian           1\n",
       "Name: flavor, dtype: int64"
      ]
     },
     "metadata": {},
     "execution_count": 76
    }
   ],
   "source": [
    "df.flavor.value_counts()"
   ]
  },
  {
   "cell_type": "code",
   "execution_count": null,
   "metadata": {},
   "outputs": [],
   "source": []
  }
 ],
 "metadata": {
  "kernelspec": {
   "display_name": "Python 3",
   "language": "python",
   "name": "python3"
  },
  "language_info": {
   "codemirror_mode": {
    "name": "ipython",
    "version": 3
   },
   "file_extension": ".py",
   "mimetype": "text/x-python",
   "name": "python",
   "nbconvert_exporter": "python",
   "pygments_lexer": "ipython3",
   "version": "3.7.4-final"
  }
 },
 "nbformat": 4,
 "nbformat_minor": 4
}